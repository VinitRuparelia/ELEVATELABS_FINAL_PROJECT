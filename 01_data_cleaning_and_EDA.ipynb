{
 "cells": [
  {
   "cell_type": "code",
   "execution_count": 1,
   "id": "a8f825fb-d503-4bab-a64f-e1dbbcb8e1ee",
   "metadata": {},
   "outputs": [],
   "source": [
    "import pandas as pd\n",
    "import numpy as np\n",
    "import matplotlib.pyplot as plt\n",
    "import seaborn as sns\n",
    "\n",
    "sns.set(style=\"whitegrid\")\n"
   ]
  },
  {
   "cell_type": "code",
   "execution_count": 7,
   "id": "f06cb7f1-b5b6-4e0a-a57c-39589228cc72",
   "metadata": {},
   "outputs": [
    {
     "name": "stdout",
     "output_type": "stream",
     "text": [
      "Shape: (9800, 19)\n"
     ]
    },
    {
     "data": {
      "text/html": [
       "<div>\n",
       "<style scoped>\n",
       "    .dataframe tbody tr th:only-of-type {\n",
       "        vertical-align: middle;\n",
       "    }\n",
       "\n",
       "    .dataframe tbody tr th {\n",
       "        vertical-align: top;\n",
       "    }\n",
       "\n",
       "    .dataframe thead th {\n",
       "        text-align: right;\n",
       "    }\n",
       "</style>\n",
       "<table border=\"1\" class=\"dataframe\">\n",
       "  <thead>\n",
       "    <tr style=\"text-align: right;\">\n",
       "      <th></th>\n",
       "      <th>Row_ID</th>\n",
       "      <th>Order_ID</th>\n",
       "      <th>Order_Date</th>\n",
       "      <th>Ship_Date</th>\n",
       "      <th>Ship_Mode</th>\n",
       "      <th>Customer_ID</th>\n",
       "      <th>Customer_Name</th>\n",
       "      <th>Segment</th>\n",
       "      <th>Country</th>\n",
       "      <th>City</th>\n",
       "      <th>State</th>\n",
       "      <th>Postal_Code</th>\n",
       "      <th>Region</th>\n",
       "      <th>Product_ID</th>\n",
       "      <th>Category</th>\n",
       "      <th>Sub_Category</th>\n",
       "      <th>Product_Name</th>\n",
       "      <th>Sales</th>\n",
       "      <th>Profit</th>\n",
       "    </tr>\n",
       "  </thead>\n",
       "  <tbody>\n",
       "    <tr>\n",
       "      <th>0</th>\n",
       "      <td>1</td>\n",
       "      <td>CA-2017-152156</td>\n",
       "      <td>08-11-2017</td>\n",
       "      <td>11-11-2017</td>\n",
       "      <td>Second Class</td>\n",
       "      <td>CG-12520</td>\n",
       "      <td>Claire Gute</td>\n",
       "      <td>Consumer</td>\n",
       "      <td>United States</td>\n",
       "      <td>Henderson</td>\n",
       "      <td>Kentucky</td>\n",
       "      <td>42420.0</td>\n",
       "      <td>South</td>\n",
       "      <td>FUR-BO-10001798</td>\n",
       "      <td>Furniture</td>\n",
       "      <td>Bookcases</td>\n",
       "      <td>Bush Somerset Collection Bookcase</td>\n",
       "      <td>261.9600</td>\n",
       "      <td>52.3920</td>\n",
       "    </tr>\n",
       "    <tr>\n",
       "      <th>1</th>\n",
       "      <td>2</td>\n",
       "      <td>CA-2017-152156</td>\n",
       "      <td>08-11-2017</td>\n",
       "      <td>11-11-2017</td>\n",
       "      <td>Second Class</td>\n",
       "      <td>CG-12520</td>\n",
       "      <td>Claire Gute</td>\n",
       "      <td>Consumer</td>\n",
       "      <td>United States</td>\n",
       "      <td>Henderson</td>\n",
       "      <td>Kentucky</td>\n",
       "      <td>42420.0</td>\n",
       "      <td>South</td>\n",
       "      <td>FUR-CH-10000454</td>\n",
       "      <td>Furniture</td>\n",
       "      <td>Chairs</td>\n",
       "      <td>Hon Deluxe Fabric Upholstered Stacking Chairs,...</td>\n",
       "      <td>731.9400</td>\n",
       "      <td>146.3880</td>\n",
       "    </tr>\n",
       "    <tr>\n",
       "      <th>2</th>\n",
       "      <td>3</td>\n",
       "      <td>CA-2017-138688</td>\n",
       "      <td>12-06-2017</td>\n",
       "      <td>16-06-2017</td>\n",
       "      <td>Second Class</td>\n",
       "      <td>DV-13045</td>\n",
       "      <td>Darrin Van Huff</td>\n",
       "      <td>Corporate</td>\n",
       "      <td>United States</td>\n",
       "      <td>Los Angeles</td>\n",
       "      <td>California</td>\n",
       "      <td>90036.0</td>\n",
       "      <td>West</td>\n",
       "      <td>OFF-LA-10000240</td>\n",
       "      <td>Office Supplies</td>\n",
       "      <td>Labels</td>\n",
       "      <td>Self-Adhesive Address Labels for Typewriters b...</td>\n",
       "      <td>14.6200</td>\n",
       "      <td>2.9240</td>\n",
       "    </tr>\n",
       "    <tr>\n",
       "      <th>3</th>\n",
       "      <td>4</td>\n",
       "      <td>US-2016-108966</td>\n",
       "      <td>11-10-2016</td>\n",
       "      <td>18-10-2016</td>\n",
       "      <td>Standard Class</td>\n",
       "      <td>SO-20335</td>\n",
       "      <td>Sean O Donnel</td>\n",
       "      <td>Consumer</td>\n",
       "      <td>United States</td>\n",
       "      <td>Fort Lauderdale</td>\n",
       "      <td>Florida</td>\n",
       "      <td>33311.0</td>\n",
       "      <td>South</td>\n",
       "      <td>FUR-TA-10000577</td>\n",
       "      <td>Furniture</td>\n",
       "      <td>Tables</td>\n",
       "      <td>Bretford CR4500 Series Slim Rectangular Table</td>\n",
       "      <td>957.5775</td>\n",
       "      <td>191.5155</td>\n",
       "    </tr>\n",
       "    <tr>\n",
       "      <th>4</th>\n",
       "      <td>5</td>\n",
       "      <td>US-2016-108966</td>\n",
       "      <td>11-10-2016</td>\n",
       "      <td>18-10-2016</td>\n",
       "      <td>Standard Class</td>\n",
       "      <td>SO-20335</td>\n",
       "      <td>Sean O Donnel</td>\n",
       "      <td>Consumer</td>\n",
       "      <td>United States</td>\n",
       "      <td>Fort Lauderdale</td>\n",
       "      <td>Florida</td>\n",
       "      <td>33311.0</td>\n",
       "      <td>South</td>\n",
       "      <td>OFF-ST-10000760</td>\n",
       "      <td>Office Supplies</td>\n",
       "      <td>Storage</td>\n",
       "      <td>Eldon Fold N Roll Cart System</td>\n",
       "      <td>22.3680</td>\n",
       "      <td>4.4736</td>\n",
       "    </tr>\n",
       "  </tbody>\n",
       "</table>\n",
       "</div>"
      ],
      "text/plain": [
       "   Row_ID        Order_ID  Order_Date   Ship_Date       Ship_Mode Customer_ID  \\\n",
       "0       1  CA-2017-152156  08-11-2017  11-11-2017    Second Class    CG-12520   \n",
       "1       2  CA-2017-152156  08-11-2017  11-11-2017    Second Class    CG-12520   \n",
       "2       3  CA-2017-138688  12-06-2017  16-06-2017    Second Class    DV-13045   \n",
       "3       4  US-2016-108966  11-10-2016  18-10-2016  Standard Class    SO-20335   \n",
       "4       5  US-2016-108966  11-10-2016  18-10-2016  Standard Class    SO-20335   \n",
       "\n",
       "     Customer_Name    Segment        Country             City       State  \\\n",
       "0      Claire Gute   Consumer  United States        Henderson    Kentucky   \n",
       "1      Claire Gute   Consumer  United States        Henderson    Kentucky   \n",
       "2  Darrin Van Huff  Corporate  United States      Los Angeles  California   \n",
       "3    Sean O Donnel   Consumer  United States  Fort Lauderdale     Florida   \n",
       "4    Sean O Donnel   Consumer  United States  Fort Lauderdale     Florida   \n",
       "\n",
       "   Postal_Code Region       Product_ID         Category Sub_Category  \\\n",
       "0      42420.0  South  FUR-BO-10001798        Furniture    Bookcases   \n",
       "1      42420.0  South  FUR-CH-10000454        Furniture       Chairs   \n",
       "2      90036.0   West  OFF-LA-10000240  Office Supplies       Labels   \n",
       "3      33311.0  South  FUR-TA-10000577        Furniture       Tables   \n",
       "4      33311.0  South  OFF-ST-10000760  Office Supplies      Storage   \n",
       "\n",
       "                                        Product_Name     Sales    Profit  \n",
       "0                  Bush Somerset Collection Bookcase  261.9600   52.3920  \n",
       "1  Hon Deluxe Fabric Upholstered Stacking Chairs,...  731.9400  146.3880  \n",
       "2  Self-Adhesive Address Labels for Typewriters b...   14.6200    2.9240  \n",
       "3      Bretford CR4500 Series Slim Rectangular Table  957.5775  191.5155  \n",
       "4                      Eldon Fold N Roll Cart System   22.3680    4.4736  "
      ]
     },
     "execution_count": 7,
     "metadata": {},
     "output_type": "execute_result"
    }
   ],
   "source": [
    "df = pd.read_csv(\"C:/Users/Vinit/Desktop/Retail-Business-Performance-Analysis/superstore_final_dataset (1).csv\", encoding='ISO-8859-1')\n",
    "print(\"Shape:\", df.shape)\n",
    "df.head()"
   ]
  },
  {
   "cell_type": "code",
   "execution_count": 9,
   "id": "88c8cdf7-00a4-49ea-b08f-16493276b888",
   "metadata": {},
   "outputs": [
    {
     "name": "stdout",
     "output_type": "stream",
     "text": [
      "Index(['row_id', 'order_id', 'order_date', 'ship_date', 'ship_mode',\n",
      "       'customer_id', 'customer_name', 'segment', 'country', 'city', 'state',\n",
      "       'postal_code', 'region', 'product_id', 'category', 'sub_category',\n",
      "       'product_name', 'sales', 'profit'],\n",
      "      dtype='object')\n"
     ]
    }
   ],
   "source": [
    "df.columns = df.columns.str.strip().str.lower().str.replace(\" \", \"_\")\n",
    "print(df.columns)\n"
   ]
  },
  {
   "cell_type": "code",
   "execution_count": 13,
   "id": "ce43d095-3586-43e2-a2b5-f73d71c86936",
   "metadata": {},
   "outputs": [
    {
     "name": "stdout",
     "output_type": "stream",
     "text": [
      "📅 Order Date Range: 2015-01-02 → 2018-12-11\n"
     ]
    }
   ],
   "source": [
    "df['order_date'] = pd.to_datetime(df['order_date'], errors='coerce')\n",
    "df['ship_date'] = pd.to_datetime(df['ship_date'], errors='coerce')\n",
    "\n",
    "df = df.dropna(subset=['order_date', 'ship_date'])\n",
    "\n",
    "order_min = df['order_date'].min().strftime('%Y-%m-%d')\n",
    "order_max = df['order_date'].max().strftime('%Y-%m-%d')\n",
    "\n",
    "print(f\"📅 Order Date Range: {order_min} → {order_max}\")\n"
   ]
  },
  {
   "cell_type": "code",
   "execution_count": 15,
   "id": "e861343e-897a-422f-aec3-9b7e3531c227",
   "metadata": {},
   "outputs": [
    {
     "data": {
      "text/plain": [
       "row_id           0\n",
       "order_id         0\n",
       "order_date       0\n",
       "ship_date        0\n",
       "ship_mode        0\n",
       "customer_id      0\n",
       "customer_name    0\n",
       "segment          0\n",
       "country          0\n",
       "city             0\n",
       "state            0\n",
       "postal_code      4\n",
       "region           0\n",
       "product_id       0\n",
       "category         0\n",
       "sub_category     0\n",
       "product_name     0\n",
       "sales            0\n",
       "profit           0\n",
       "dtype: int64"
      ]
     },
     "execution_count": 15,
     "metadata": {},
     "output_type": "execute_result"
    }
   ],
   "source": [
    "df.isnull().sum()"
   ]
  },
  {
   "cell_type": "code",
   "execution_count": 17,
   "id": "6e22f00f-a8b5-41a8-b02a-3891912b3d36",
   "metadata": {},
   "outputs": [
    {
     "name": "stdout",
     "output_type": "stream",
     "text": [
      "🔍 Missing values:\n",
      " postal_code    4\n",
      "dtype: int64\n",
      "\n",
      "✅ Rows after dropping missing postal_code: 2672\n"
     ]
    }
   ],
   "source": [
    "missing = df.isnull().sum()\n",
    "print(\"🔍 Missing values:\\n\", missing[missing > 0])\n",
    "\n",
    "df = df.dropna(subset=['postal_code'])\n",
    "print(f\"\\n✅ Rows after dropping missing postal_code: {len(df)}\")\n"
   ]
  },
  {
   "cell_type": "code",
   "execution_count": 21,
   "id": "efb816fc-5f76-4eea-a7c6-dd442ded0aa6",
   "metadata": {},
   "outputs": [
    {
     "name": "stdout",
     "output_type": "stream",
     "text": [
      "🧾 Negative profits: 0\n",
      "💰 Zero or negative sales: 0\n",
      "📈 Correlation between Sales and Profit: 1.00\n"
     ]
    }
   ],
   "source": [
    "\n",
    "print(\"🧾 Negative profits:\", (df['profit'] < 0).sum())\n",
    "print(\"💰 Zero or negative sales:\", (df['sales'] <= 0).sum())\n",
    "\n",
    "corr = df[['sales', 'profit']].corr().iloc[0, 1]\n",
    "print(f\"📈 Correlation between Sales and Profit: {corr:.2f}\")\n"
   ]
  },
  {
   "cell_type": "code",
   "execution_count": 23,
   "id": "5e6552b7-6438-46c9-bc9a-18a458a959a2",
   "metadata": {},
   "outputs": [
    {
     "name": "stdout",
     "output_type": "stream",
     "text": [
      "✅ Cleaned data saved\n"
     ]
    }
   ],
   "source": [
    "df.to_csv(\"C:/Users/Vinit/Desktop/Retail-Business-Performance-Analysis/cleaned_data.csv\", index=False)\n",
    "print(\"✅ Cleaned data saved\")"
   ]
  },
  {
   "cell_type": "code",
   "execution_count": null,
   "id": "325461ae-37dc-4929-bcdb-265b5f01a1fc",
   "metadata": {},
   "outputs": [],
   "source": []
  }
 ],
 "metadata": {
  "kernelspec": {
   "display_name": "Python [conda env:base] *",
   "language": "python",
   "name": "conda-base-py"
  },
  "language_info": {
   "codemirror_mode": {
    "name": "ipython",
    "version": 3
   },
   "file_extension": ".py",
   "mimetype": "text/x-python",
   "name": "python",
   "nbconvert_exporter": "python",
   "pygments_lexer": "ipython3",
   "version": "3.12.7"
  }
 },
 "nbformat": 4,
 "nbformat_minor": 5
}
